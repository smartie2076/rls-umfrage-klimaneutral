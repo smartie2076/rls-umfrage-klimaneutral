{
 "cells": [
  {
   "cell_type": "markdown",
   "id": "99dd4b54",
   "metadata": {},
   "source": [
    "# Auswertung der Rohdaten\n",
    "\n",
    "Ergebnisse der Umfrage zum Klimaneutralen Stromsystem / Erneuerbaren Energiesystem."
   ]
  },
  {
   "cell_type": "code",
   "execution_count": null,
   "id": "1d4506d5",
   "metadata": {},
   "outputs": [],
   "source": [
    "import numpy as np\n",
    "import pandas as pd\n",
    "import matplotlib.pyplot as plt\n",
    "from matplotlib import cm"
   ]
  },
  {
   "cell_type": "code",
   "execution_count": null,
   "id": "e09b2a72",
   "metadata": {},
   "outputs": [],
   "source": [
    "# Einstellungen zur Darstellung\n",
    "# Farbpalette (kann später mit eigenen Farben angepasst werden)\n",
    "# https://matplotlib.org/stable/tutorials/colors/colormap-manipulation.html\n",
    "cmap = cm.get_cmap('viridis')"
   ]
  },
  {
   "cell_type": "code",
   "execution_count": null,
   "id": "eed9777a",
   "metadata": {},
   "outputs": [],
   "source": [
    "# Gruppierung der Ergebnisse\n",
    "links = ['E-Mailverteiler', 'internes-Netzwerk', 'Pressemitteilung']\n",
    "states = ['vollständig', 'abgebrochen']\n",
    "# Für Grafiken\n",
    "nrows = 1 #len(states)\n",
    "ncols = 1 #len(links)"
   ]
  },
  {
   "cell_type": "code",
   "execution_count": null,
   "id": "0a3a05b3",
   "metadata": {},
   "outputs": [],
   "source": [
    "# Laden der Umfrageergebnisse\n",
    "# Funktion zum Bereinigen der Ergebnisse\n",
    "def cleanse(df):\n",
    "    mask = (df['duration']>0) \\\n",
    "        & (df['lastpage']>0) \\\n",
    "        & (df['dispcode'].isin([31,32,33,34,22]))\n",
    "    return df.loc[mask]\n",
    "\n",
    "# Funktion zum Laden, Filtern und Bereinigen der Daten\n",
    "def load_df(link, skipped):\n",
    "    df = pd.read_csv('data/2022_06_RLI_Klimaneutrales Stromsystem_{}_Ergebnisse.csv'.format(link),\n",
    "                     sep=';', header=2, usecols=list(range(3,123)))\n",
    "    df = cleanse(df)\n",
    "    skip_codes = [22] if skipped else [31,32,33,34]\n",
    "    return df.loc[df['dispcode'].isin(skip_codes)]\n",
    "\n",
    "# Tabelle mit Datentabellen\n",
    "'''data = pd.DataFrame(data={link: [load_df(link, skip) for skip in range(len(states))]\n",
    "                          for link in links},\n",
    "                    index=states)'''\n",
    "data = pd.concat([load_df(link, skipped) for link in links for skipped in [True, False]]).reset_index()\n",
    "\n",
    "# Access a DataFrame with df.loc[<vollständig/abgebrochen>, <Umfragelink-typ>]"
   ]
  },
  {
   "cell_type": "code",
   "execution_count": null,
   "id": "bc44f749",
   "metadata": {},
   "outputs": [],
   "source": [
    "# Importiere Codebook in dict format\n",
    "from src import rls_umfrage_auswertung\n",
    "codebook = rls_umfrage_auswertung.main_preprocessing_codebook(display_codebook = False)"
   ]
  },
  {
   "cell_type": "code",
   "execution_count": null,
   "id": "ee3e9b9c",
   "metadata": {},
   "outputs": [],
   "source": [
    "# Codes, die Bedeuten, dass keine Angabe gemacht wurde\n",
    "exclude_codes = [-77, -99, -66, 0, '0', '-66', '-99', '-77']"
   ]
  },
  {
   "cell_type": "raw",
   "id": "6d37d8c6",
   "metadata": {},
   "source": [
    "# Funktion zum Plotten von pie plots\n",
    "def pie_plots(code, title=None, sub=1):\n",
    "    key = codebook[code]['subquestion'][sub]['columns']\n",
    "    codes = codebook[code]['subquestion'][sub]['multiple-choice-options']\n",
    "    fig, ax = plt.subplots(nrows, ncols, figsize=(5*ncols,4*nrows))\n",
    "    for i in range(nrows):\n",
    "        for j in range(ncols):\n",
    "            axis = ax[i,j] if nrows>1 else ax[j]\n",
    "            data.iloc[i,j][key] = data.iloc[i,j][key].astype(str).sort_values().replace(codes)\n",
    "            data.iloc[i,j].loc[~data.iloc[i,j][key].isin(exclude_codes)\n",
    "                              ].groupby(key).count()['dispcode'].plot.pie(ax=axis, cmap=cmap)\n",
    "            axis.set_title(links[j] + '; ' + states[i])\n",
    "    if not title:\n",
    "        title = codebook[code]['question'][:min(len(codebook[code]['question']), 120)] \\\n",
    "            + '\\n' + codebook[code]['subquestion'][sub]['question']\n",
    "    fig.suptitle(str(title), fontsize=16)"
   ]
  },
  {
   "cell_type": "code",
   "execution_count": null,
   "id": "a7d7f6a3",
   "metadata": {},
   "outputs": [],
   "source": [
    "def pie_plots(code, title=None, sub=1):\n",
    "    key = codebook[code]['subquestion'][sub]['columns']\n",
    "    codes = codebook[code]['subquestion'][sub]['multiple-choice-options']\n",
    "    fig, axis = plt.subplots(nrows, ncols, figsize=(5*ncols,4*nrows))\n",
    "    data[key] = data[key].astype(str).sort_values().replace(codes)\n",
    "    data.loc[~data[key].isin(exclude_codes)].groupby(key).count()['dispcode'].plot.pie(ax=axis, cmap=cmap)\n",
    "    if not title:\n",
    "        title = codebook[code]['question'][:min(len(codebook[code]['question']), 150)] \\\n",
    "            + '\\n' + codebook[code]['subquestion'][sub]['question']\n",
    "    axis.set_title(title)"
   ]
  },
  {
   "cell_type": "raw",
   "id": "7c2e94ea",
   "metadata": {},
   "source": [
    "# Funktion zum printen\n",
    "# agg ist die aggregator function\n",
    "def print_data(key, agg, title=None, codes=None, gap=False):\n",
    "    if title:\n",
    "        print(str(title))\n",
    "        if gap: print('')\n",
    "    for l in links:\n",
    "        for s in states:\n",
    "            if codes:\n",
    "                data.loc[s,l][key] = data.loc[s,l][key].astype(str).replace(codes)\n",
    "            if agg == list:\n",
    "                result = list(data.loc[s,l].loc[~data.loc[s,l][key].isin(exclude_codes), key])\n",
    "            else:\n",
    "                result = data.loc[s,l].loc[~data.loc[s,l][key].isin(exclude_codes), key].agg(agg)\n",
    "            print('{}; {}: {}'.format(l,s, result))\n",
    "            if gap: print('')"
   ]
  },
  {
   "cell_type": "code",
   "execution_count": null,
   "id": "a517c88d",
   "metadata": {},
   "outputs": [],
   "source": [
    "def print_data(key, agg, title=None, codes=None, gap=False):\n",
    "    if title:\n",
    "        print(str(title))\n",
    "        if gap: print('')\n",
    "    if codes:\n",
    "        data[key] = data[key].astype(str).replace(codes)\n",
    "    if agg == list:\n",
    "        result = list(data.loc[~data[key].isin(exclude_codes), key])\n",
    "    else:\n",
    "        result = data.loc[~data[key].isin(exclude_codes), key].agg(agg)\n",
    "    string = '{}: {}'.format('alle', result)\n",
    "    print(string)\n",
    "    if gap: print('')\n",
    "    return string"
   ]
  },
  {
   "cell_type": "markdown",
   "id": "19f5ad2a",
   "metadata": {},
   "source": [
    "## Generelle Angaben zu den Ergebnisgruppen"
   ]
  },
  {
   "cell_type": "raw",
   "id": "f9c9f570",
   "metadata": {},
   "source": [
    "print('Anzahl der Antworten je Gruppe')\n",
    "for l in links:\n",
    "    for s in states:\n",
    "        print('{}; {}: {}'.format(l,s,len(data.loc[s,l])))"
   ]
  },
  {
   "cell_type": "code",
   "execution_count": null,
   "id": "b0eb70c0",
   "metadata": {},
   "outputs": [],
   "source": [
    "pie_plots(40)"
   ]
  },
  {
   "cell_type": "code",
   "execution_count": null,
   "id": "ecd5f3bd",
   "metadata": {},
   "outputs": [],
   "source": [
    "print_data('v_306', np.mean, title='Durchschnittliche Jahre der Erfahrung')"
   ]
  },
  {
   "cell_type": "markdown",
   "id": "10161392",
   "metadata": {},
   "source": [
    "# Teil 1\n",
    "\n",
    "Beschreibung generell"
   ]
  },
  {
   "cell_type": "code",
   "execution_count": null,
   "id": "4cd07f85",
   "metadata": {},
   "outputs": [],
   "source": [
    "# Keine Priorisierung der Felder (1., 2., 3.)\n",
    "rls_umfrage_auswertung.create_wordclouds(codebook, survey_data=data, survey_group='alle', question_number_list=[4], number_of_most_common_words_displayed=20)"
   ]
  },
  {
   "cell_type": "code",
   "execution_count": null,
   "id": "1a03c8b3",
   "metadata": {},
   "outputs": [],
   "source": [
    "pie_plots(5)"
   ]
  },
  {
   "cell_type": "code",
   "execution_count": null,
   "id": "34cd8de3",
   "metadata": {},
   "outputs": [],
   "source": [
    "# Korrelation von CCS iAv Synonym-Frage\n",
    "data.plot.scatter(x='v_137', y='v_425', alpha=.1)"
   ]
  },
  {
   "cell_type": "code",
   "execution_count": null,
   "id": "6f4d9ad5",
   "metadata": {},
   "outputs": [],
   "source": [
    "# Atom\n",
    "data.plot.scatter(x='v_137', y='v_426', alpha=.1)"
   ]
  },
  {
   "cell_type": "code",
   "execution_count": null,
   "id": "c3f27efe",
   "metadata": {},
   "outputs": [],
   "source": [
    "string = print_data('v_138', list, title=codebook[6]['question'], gap=True)"
   ]
  },
  {
   "cell_type": "code",
   "execution_count": null,
   "id": "d93dd073",
   "metadata": {},
   "outputs": [],
   "source": [
    "# Visualization of word string above\n",
    "drop = rls_umfrage_auswertung.get_lemma(string, number_of_most_common_words_displayed=20)"
   ]
  },
  {
   "cell_type": "code",
   "execution_count": null,
   "id": "f7309fc3",
   "metadata": {},
   "outputs": [],
   "source": [
    "pie_plots(7)"
   ]
  },
  {
   "cell_type": "code",
   "execution_count": null,
   "id": "9815d82b",
   "metadata": {},
   "outputs": [],
   "source": [
    "# Korrelation 1,5° i.A.v. Synonym\n",
    "data.plot.scatter(x='v_137', y='v_139', alpha=.05)"
   ]
  },
  {
   "cell_type": "code",
   "execution_count": null,
   "id": "4f66ceb4",
   "metadata": {},
   "outputs": [],
   "source": [
    "string = print_data('v_434', list, title=codebook[8]['question'], gap=True)"
   ]
  },
  {
   "cell_type": "code",
   "execution_count": null,
   "id": "ece11b41",
   "metadata": {},
   "outputs": [],
   "source": [
    "drop = rls_umfrage_auswertung.get_lemma(string, number_of_most_common_words_displayed=20)"
   ]
  },
  {
   "cell_type": "code",
   "execution_count": null,
   "id": "3fd5f333",
   "metadata": {},
   "outputs": [],
   "source": [
    "pie_plots(9)"
   ]
  },
  {
   "cell_type": "code",
   "execution_count": null,
   "id": "0f69df37",
   "metadata": {},
   "outputs": [],
   "source": [
    "string = print_data('v_171', list, title=codebook[10]['question'], gap=True)"
   ]
  },
  {
   "cell_type": "code",
   "execution_count": null,
   "id": "e818dcea",
   "metadata": {},
   "outputs": [],
   "source": [
    "drop = rls_umfrage_auswertung.get_lemma(string, number_of_most_common_words_displayed=20)"
   ]
  },
  {
   "cell_type": "code",
   "execution_count": null,
   "id": "4970b904",
   "metadata": {},
   "outputs": [],
   "source": [
    "# Keine Priorisierung der Felder (1., 2., 3.)\n",
    "rls_umfrage_auswertung.create_wordclouds(codebook, survey_data=data, survey_group='alle', question_number_list=[11], number_of_most_common_words_displayed=20)"
   ]
  },
  {
   "cell_type": "code",
   "execution_count": null,
   "id": "efcf6a5a",
   "metadata": {},
   "outputs": [],
   "source": [
    "print_data('v_148', np.mean, codebook[12]['subquestion'][1]['question'])"
   ]
  },
  {
   "cell_type": "code",
   "execution_count": null,
   "id": "8f5bb1f5",
   "metadata": {},
   "outputs": [],
   "source": [
    "print_data('v_149', np.mean, codebook[12]['subquestion'][2]['question'])"
   ]
  },
  {
   "cell_type": "code",
   "execution_count": null,
   "id": "dddc4789",
   "metadata": {},
   "outputs": [],
   "source": [
    "rls_umfrage_auswertung.create_stacked_bar_chart_percent(data, codebook, question_number=13)"
   ]
  },
  {
   "cell_type": "code",
   "execution_count": null,
   "id": "cee2df01",
   "metadata": {},
   "outputs": [],
   "source": [
    "pie_plots(13)"
   ]
  },
  {
   "cell_type": "code",
   "execution_count": null,
   "id": "8483c138",
   "metadata": {},
   "outputs": [],
   "source": [
    "pie_plots(13, sub=2)"
   ]
  },
  {
   "cell_type": "code",
   "execution_count": null,
   "id": "90a4690c",
   "metadata": {},
   "outputs": [],
   "source": [
    "rls_umfrage_auswertung.create_stacked_bar_chart_percent(data, codebook, question_number=14)"
   ]
  },
  {
   "cell_type": "code",
   "execution_count": null,
   "id": "10f561fc",
   "metadata": {},
   "outputs": [],
   "source": [
    "pie_plots(14)"
   ]
  },
  {
   "cell_type": "code",
   "execution_count": null,
   "id": "513554a9",
   "metadata": {},
   "outputs": [],
   "source": [
    "pie_plots(14,sub=2)"
   ]
  },
  {
   "cell_type": "code",
   "execution_count": null,
   "id": "e4334ad7",
   "metadata": {},
   "outputs": [],
   "source": [
    "pie_plots(15)"
   ]
  },
  {
   "cell_type": "code",
   "execution_count": null,
   "id": "b664fb53",
   "metadata": {},
   "outputs": [],
   "source": [
    "# Keine Priorisierung der Felder (1., 2., 3.)\n",
    "rls_umfrage_auswertung.create_wordclouds(codebook, survey_data=data, survey_group='alle', question_number_list=[16], number_of_most_common_words_displayed=20)"
   ]
  },
  {
   "cell_type": "markdown",
   "id": "7d6125d2",
   "metadata": {},
   "source": [
    "# Teil Gesellschaft"
   ]
  },
  {
   "cell_type": "code",
   "execution_count": null,
   "id": "8eb9067f",
   "metadata": {},
   "outputs": [],
   "source": [
    "rls_umfrage_auswertung.create_stacked_bar_chart_percent(data, codebook, question_number=17)"
   ]
  },
  {
   "cell_type": "code",
   "execution_count": null,
   "id": "75c023f8",
   "metadata": {},
   "outputs": [],
   "source": [
    "pie_plots(17)"
   ]
  },
  {
   "cell_type": "code",
   "execution_count": null,
   "id": "16967669",
   "metadata": {},
   "outputs": [],
   "source": [
    "pie_plots(17,sub=2)"
   ]
  },
  {
   "cell_type": "code",
   "execution_count": null,
   "id": "ea9725e2",
   "metadata": {},
   "outputs": [],
   "source": [
    "pie_plots(17, sub=3)"
   ]
  },
  {
   "cell_type": "code",
   "execution_count": null,
   "id": "98725a3f",
   "metadata": {},
   "outputs": [],
   "source": [
    "pie_plots(17, sub=4)"
   ]
  },
  {
   "cell_type": "code",
   "execution_count": null,
   "id": "32b515d2",
   "metadata": {},
   "outputs": [],
   "source": [
    "rls_umfrage_auswertung.create_stacked_bar_chart_percent(data, codebook, question_number=18)"
   ]
  },
  {
   "cell_type": "code",
   "execution_count": null,
   "id": "35cf76b7",
   "metadata": {},
   "outputs": [],
   "source": [
    "pie_plots(18)"
   ]
  },
  {
   "cell_type": "code",
   "execution_count": null,
   "id": "675e57f2",
   "metadata": {},
   "outputs": [],
   "source": [
    "pie_plots(18, sub=2)"
   ]
  },
  {
   "cell_type": "code",
   "execution_count": null,
   "id": "f0232e9a",
   "metadata": {},
   "outputs": [],
   "source": [
    "pie_plots(18,sub=3)"
   ]
  },
  {
   "cell_type": "code",
   "execution_count": null,
   "id": "33608e8f",
   "metadata": {},
   "outputs": [],
   "source": [
    "rls_umfrage_auswertung.create_stacked_bar_chart_percent(data, codebook, question_number=19)"
   ]
  },
  {
   "cell_type": "code",
   "execution_count": null,
   "id": "cb848586",
   "metadata": {},
   "outputs": [],
   "source": [
    "pie_plots(19)"
   ]
  },
  {
   "cell_type": "code",
   "execution_count": null,
   "id": "50be0c1c",
   "metadata": {},
   "outputs": [],
   "source": [
    "pie_plots(19, sub=2)"
   ]
  },
  {
   "cell_type": "code",
   "execution_count": null,
   "id": "fa9a178e",
   "metadata": {},
   "outputs": [],
   "source": [
    "pie_plots(19, sub=3)"
   ]
  },
  {
   "cell_type": "code",
   "execution_count": null,
   "id": "f3326a67",
   "metadata": {},
   "outputs": [],
   "source": [
    "pie_plots(19, sub=4)"
   ]
  },
  {
   "cell_type": "code",
   "execution_count": null,
   "id": "ff84c151",
   "metadata": {},
   "outputs": [],
   "source": [
    "rls_umfrage_auswertung.create_stacked_bar_chart_percent(data, codebook, question_number=20)"
   ]
  },
  {
   "cell_type": "code",
   "execution_count": null,
   "id": "548b3793",
   "metadata": {},
   "outputs": [],
   "source": [
    "pie_plots(20, sub=1)"
   ]
  },
  {
   "cell_type": "code",
   "execution_count": null,
   "id": "b6228e27",
   "metadata": {},
   "outputs": [],
   "source": [
    "pie_plots(20, sub=2)"
   ]
  },
  {
   "cell_type": "code",
   "execution_count": null,
   "id": "a3c6be27",
   "metadata": {},
   "outputs": [],
   "source": [
    "pie_plots(20, sub=3)"
   ]
  },
  {
   "cell_type": "code",
   "execution_count": null,
   "id": "284e86c0",
   "metadata": {},
   "outputs": [],
   "source": [
    "pie_plots(20, sub=4)"
   ]
  },
  {
   "cell_type": "code",
   "execution_count": null,
   "id": "e5f5f3d0",
   "metadata": {},
   "outputs": [],
   "source": [
    "pie_plots(20, sub=5)"
   ]
  },
  {
   "cell_type": "code",
   "execution_count": null,
   "id": "4ef1ad78",
   "metadata": {},
   "outputs": [],
   "source": [
    "pie_plots(20, sub=6)"
   ]
  },
  {
   "cell_type": "code",
   "execution_count": null,
   "id": "6f32fce9",
   "metadata": {},
   "outputs": [],
   "source": [
    "pie_plots(20, sub=7)"
   ]
  },
  {
   "cell_type": "code",
   "execution_count": null,
   "id": "76556ea4",
   "metadata": {},
   "outputs": [],
   "source": [
    "# Keine Priorisierung der Felder (1., 2., 3.)\n",
    "rls_umfrage_auswertung.create_wordclouds(codebook, survey_data=data, survey_group='alle', question_number_list=[21], number_of_most_common_words_displayed=20)"
   ]
  },
  {
   "cell_type": "markdown",
   "id": "bdb5ca00",
   "metadata": {},
   "source": [
    "# Teil Wirtschaft"
   ]
  },
  {
   "cell_type": "code",
   "execution_count": null,
   "id": "860ac0f7",
   "metadata": {},
   "outputs": [],
   "source": [
    "# Keine Priorisierung der Felder (1., 2., 3.)\n",
    "rls_umfrage_auswertung.create_wordclouds(codebook, survey_data=data, survey_group='alle', question_number_list=[22], number_of_most_common_words_displayed=20)"
   ]
  },
  {
   "cell_type": "code",
   "execution_count": null,
   "id": "b6ed4128",
   "metadata": {},
   "outputs": [],
   "source": [
    "rls_umfrage_auswertung.create_stacked_bar_chart_percent(data, codebook, question_number=23)"
   ]
  },
  {
   "cell_type": "code",
   "execution_count": null,
   "id": "6a0ce316",
   "metadata": {},
   "outputs": [],
   "source": [
    "pie_plots(23, sub=1)"
   ]
  },
  {
   "cell_type": "code",
   "execution_count": null,
   "id": "006d0afa",
   "metadata": {},
   "outputs": [],
   "source": [
    "pie_plots(23, sub=2)"
   ]
  },
  {
   "cell_type": "code",
   "execution_count": null,
   "id": "f45377b3",
   "metadata": {},
   "outputs": [],
   "source": [
    "pie_plots(23, sub=3)"
   ]
  },
  {
   "cell_type": "code",
   "execution_count": null,
   "id": "85b7cd27",
   "metadata": {},
   "outputs": [],
   "source": [
    "pie_plots(23, sub=4)"
   ]
  },
  {
   "cell_type": "code",
   "execution_count": null,
   "id": "9d3c9e23",
   "metadata": {},
   "outputs": [],
   "source": [
    "pie_plots(23, sub=5)"
   ]
  },
  {
   "cell_type": "code",
   "execution_count": null,
   "id": "427f1ea5",
   "metadata": {},
   "outputs": [],
   "source": [
    "pie_plots(23, sub=6)"
   ]
  },
  {
   "cell_type": "code",
   "execution_count": null,
   "id": "3d0422a6",
   "metadata": {},
   "outputs": [],
   "source": [
    "rls_umfrage_auswertung.create_stacked_bar_chart_percent(data, codebook, question_number=24)"
   ]
  },
  {
   "cell_type": "code",
   "execution_count": null,
   "id": "a96ab8f8",
   "metadata": {},
   "outputs": [],
   "source": [
    "pie_plots(24, sub=1)"
   ]
  },
  {
   "cell_type": "code",
   "execution_count": null,
   "id": "b685ec1f",
   "metadata": {},
   "outputs": [],
   "source": [
    "pie_plots(24, sub=2)"
   ]
  },
  {
   "cell_type": "code",
   "execution_count": null,
   "id": "e56ec4b5",
   "metadata": {},
   "outputs": [],
   "source": [
    "pie_plots(24, sub=3)"
   ]
  },
  {
   "cell_type": "code",
   "execution_count": null,
   "id": "2d259fdb",
   "metadata": {},
   "outputs": [],
   "source": [
    "pie_plots(24, sub=4)"
   ]
  },
  {
   "cell_type": "code",
   "execution_count": null,
   "id": "9555bdf6",
   "metadata": {},
   "outputs": [],
   "source": [
    "pie_plots(24, sub=5)"
   ]
  },
  {
   "cell_type": "code",
   "execution_count": null,
   "id": "73627248",
   "metadata": {},
   "outputs": [],
   "source": [
    "pie_plots(24, sub=6)"
   ]
  },
  {
   "cell_type": "code",
   "execution_count": null,
   "id": "29adb575",
   "metadata": {},
   "outputs": [],
   "source": [
    "rls_umfrage_auswertung.create_stacked_bar_chart_percent(data, codebook, question_number=25)"
   ]
  },
  {
   "cell_type": "code",
   "execution_count": null,
   "id": "b91ade94",
   "metadata": {},
   "outputs": [],
   "source": [
    "pie_plots(25, sub=1)"
   ]
  },
  {
   "cell_type": "code",
   "execution_count": null,
   "id": "8413b5c4",
   "metadata": {},
   "outputs": [],
   "source": [
    "pie_plots(25, sub=2)"
   ]
  },
  {
   "cell_type": "code",
   "execution_count": null,
   "id": "5c26fb43",
   "metadata": {},
   "outputs": [],
   "source": [
    "pie_plots(25, sub=3)"
   ]
  },
  {
   "cell_type": "code",
   "execution_count": null,
   "id": "ec2f6402",
   "metadata": {},
   "outputs": [],
   "source": [
    "pie_plots(25, sub=4)"
   ]
  },
  {
   "cell_type": "code",
   "execution_count": null,
   "id": "f6822602",
   "metadata": {},
   "outputs": [],
   "source": [
    "pie_plots(25, sub=5)"
   ]
  },
  {
   "cell_type": "code",
   "execution_count": null,
   "id": "2fa24a71",
   "metadata": {},
   "outputs": [],
   "source": [
    "pie_plots(25, sub=6)"
   ]
  },
  {
   "cell_type": "code",
   "execution_count": null,
   "id": "1fcf04cd",
   "metadata": {},
   "outputs": [],
   "source": [
    "pie_plots(25, sub=7)"
   ]
  },
  {
   "cell_type": "code",
   "execution_count": null,
   "id": "6c9dae5f",
   "metadata": {},
   "outputs": [],
   "source": [
    "# Keine Priorisierung der Felder (1., 2., 3.)\n",
    "rls_umfrage_auswertung.create_wordclouds(codebook, survey_data=data, survey_group='alle', question_number_list=[26], number_of_most_common_words_displayed=20)"
   ]
  },
  {
   "cell_type": "markdown",
   "id": "2eaff41d",
   "metadata": {},
   "source": [
    "# Teil Technik"
   ]
  },
  {
   "cell_type": "code",
   "execution_count": null,
   "id": "519ef083",
   "metadata": {},
   "outputs": [],
   "source": [
    "# Keine Priorisierung der Felder (1., 2., 3.)\n",
    "rls_umfrage_auswertung.create_wordclouds(codebook, survey_data=data, survey_group='alle', question_number_list=[27], number_of_most_common_words_displayed=20)"
   ]
  },
  {
   "cell_type": "code",
   "execution_count": null,
   "id": "93e53691",
   "metadata": {},
   "outputs": [],
   "source": [
    "rls_umfrage_auswertung.create_stacked_bar_chart_percent(data, codebook, question_number=28)"
   ]
  },
  {
   "cell_type": "code",
   "execution_count": null,
   "id": "c90ed34b",
   "metadata": {},
   "outputs": [],
   "source": [
    "pie_plots(28, sub=1)"
   ]
  },
  {
   "cell_type": "code",
   "execution_count": null,
   "id": "eee2928b",
   "metadata": {},
   "outputs": [],
   "source": [
    "pie_plots(28, sub=2)"
   ]
  },
  {
   "cell_type": "code",
   "execution_count": null,
   "id": "2b3a8cd0",
   "metadata": {},
   "outputs": [],
   "source": [
    "pie_plots(28, sub=3)"
   ]
  },
  {
   "cell_type": "code",
   "execution_count": null,
   "id": "3d35262d",
   "metadata": {},
   "outputs": [],
   "source": [
    "pie_plots(28, sub=4)"
   ]
  },
  {
   "cell_type": "code",
   "execution_count": null,
   "id": "1aa5f5b4",
   "metadata": {},
   "outputs": [],
   "source": [
    "rls_umfrage_auswertung.create_stacked_bar_chart_percent(data, codebook, question_number=29)"
   ]
  },
  {
   "cell_type": "code",
   "execution_count": null,
   "id": "1ae20910",
   "metadata": {},
   "outputs": [],
   "source": [
    "pie_plots(29, sub=1)"
   ]
  },
  {
   "cell_type": "code",
   "execution_count": null,
   "id": "3359b9f2",
   "metadata": {},
   "outputs": [],
   "source": [
    "pie_plots(29, sub=2)"
   ]
  },
  {
   "cell_type": "code",
   "execution_count": null,
   "id": "4c942cf7",
   "metadata": {},
   "outputs": [],
   "source": [
    "pie_plots(29, sub=3)"
   ]
  },
  {
   "cell_type": "code",
   "execution_count": null,
   "id": "0c76fa14",
   "metadata": {},
   "outputs": [],
   "source": [
    "pie_plots(29, sub=4)"
   ]
  },
  {
   "cell_type": "code",
   "execution_count": null,
   "id": "b2f24d57",
   "metadata": {},
   "outputs": [],
   "source": [
    "rls_umfrage_auswertung.create_stacked_bar_chart_percent(data, codebook, question_number=30)"
   ]
  },
  {
   "cell_type": "code",
   "execution_count": null,
   "id": "c7c1944f",
   "metadata": {},
   "outputs": [],
   "source": [
    "pie_plots(30, sub=1)"
   ]
  },
  {
   "cell_type": "code",
   "execution_count": null,
   "id": "dc38c8da",
   "metadata": {},
   "outputs": [],
   "source": [
    "pie_plots(30, sub=2)"
   ]
  },
  {
   "cell_type": "code",
   "execution_count": null,
   "id": "67296a60",
   "metadata": {},
   "outputs": [],
   "source": [
    "pie_plots(30, sub=3)"
   ]
  },
  {
   "cell_type": "code",
   "execution_count": null,
   "id": "69239d61",
   "metadata": {},
   "outputs": [],
   "source": [
    "pie_plots(30, sub=4)"
   ]
  },
  {
   "cell_type": "code",
   "execution_count": null,
   "id": "e88baf83",
   "metadata": {},
   "outputs": [],
   "source": [
    "rls_umfrage_auswertung.create_stacked_bar_chart_percent(data, codebook, question_number=31)"
   ]
  },
  {
   "cell_type": "code",
   "execution_count": null,
   "id": "9e60374b",
   "metadata": {},
   "outputs": [],
   "source": [
    "pie_plots(31, sub=1)"
   ]
  },
  {
   "cell_type": "code",
   "execution_count": null,
   "id": "5050f0c7",
   "metadata": {},
   "outputs": [],
   "source": [
    "pie_plots(31, sub=2)"
   ]
  },
  {
   "cell_type": "code",
   "execution_count": null,
   "id": "2a2df083",
   "metadata": {},
   "outputs": [],
   "source": [
    "pie_plots(31, sub=3)"
   ]
  },
  {
   "cell_type": "code",
   "execution_count": null,
   "id": "7062df55",
   "metadata": {},
   "outputs": [],
   "source": [
    "pie_plots(31, sub=4)"
   ]
  },
  {
   "cell_type": "code",
   "execution_count": null,
   "id": "ff6e5fd6",
   "metadata": {},
   "outputs": [],
   "source": [
    "rls_umfrage_auswertung.create_stacked_bar_chart_percent(data, codebook, question_number=32)"
   ]
  },
  {
   "cell_type": "code",
   "execution_count": null,
   "id": "26382203",
   "metadata": {},
   "outputs": [],
   "source": [
    "pie_plots(32, sub=1)"
   ]
  },
  {
   "cell_type": "code",
   "execution_count": null,
   "id": "e440181c",
   "metadata": {},
   "outputs": [],
   "source": [
    "pie_plots(32, sub=2)"
   ]
  },
  {
   "cell_type": "code",
   "execution_count": null,
   "id": "61c5c299",
   "metadata": {},
   "outputs": [],
   "source": [
    "pie_plots(32, sub=3)"
   ]
  },
  {
   "cell_type": "code",
   "execution_count": null,
   "id": "eebf0f51",
   "metadata": {},
   "outputs": [],
   "source": [
    "rls_umfrage_auswertung.create_stacked_bar_chart_percent(data, codebook, question_number=33)"
   ]
  },
  {
   "cell_type": "code",
   "execution_count": null,
   "id": "e2f848ad",
   "metadata": {},
   "outputs": [],
   "source": [
    "pie_plots(33, sub=1)"
   ]
  },
  {
   "cell_type": "code",
   "execution_count": null,
   "id": "e859fa24",
   "metadata": {},
   "outputs": [],
   "source": [
    "pie_plots(33, sub=2)"
   ]
  },
  {
   "cell_type": "code",
   "execution_count": null,
   "id": "7d6b883e",
   "metadata": {},
   "outputs": [],
   "source": [
    "pie_plots(33, sub=3)"
   ]
  },
  {
   "cell_type": "code",
   "execution_count": null,
   "id": "c1255761",
   "metadata": {},
   "outputs": [],
   "source": [
    "# Keine Priorisierung der Felder (1., 2., 3.)\n",
    "rls_umfrage_auswertung.create_wordclouds(codebook, survey_data=data, survey_group='alle', question_number_list=[34], number_of_most_common_words_displayed=20)"
   ]
  },
  {
   "cell_type": "markdown",
   "id": "ca201f0c",
   "metadata": {},
   "source": [
    "# Teil Strommarktdesign"
   ]
  },
  {
   "cell_type": "code",
   "execution_count": null,
   "id": "151032d5",
   "metadata": {},
   "outputs": [],
   "source": [
    "# Keine Priorisierung der Felder (1., 2., 3.)\n",
    "rls_umfrage_auswertung.create_wordclouds(codebook, survey_data=data, survey_group='alle', question_number_list=[35], number_of_most_common_words_displayed=20)"
   ]
  },
  {
   "cell_type": "code",
   "execution_count": null,
   "id": "83b8b3ad",
   "metadata": {},
   "outputs": [],
   "source": [
    "pie_plots(36)"
   ]
  },
  {
   "cell_type": "code",
   "execution_count": null,
   "id": "7697e51f",
   "metadata": {},
   "outputs": [],
   "source": [
    "string = print_data('v_205', list, title=codebook[37]['question'], gap=True)"
   ]
  },
  {
   "cell_type": "code",
   "execution_count": null,
   "id": "02570794",
   "metadata": {},
   "outputs": [],
   "source": [
    "drop = rls_umfrage_auswertung.get_lemma(string, number_of_most_common_words_displayed=20)"
   ]
  },
  {
   "cell_type": "code",
   "execution_count": null,
   "id": "c2d56cb2",
   "metadata": {},
   "outputs": [],
   "source": [
    "rls_umfrage_auswertung.create_stacked_bar_chart_percent(data, codebook, question_number=38)"
   ]
  },
  {
   "cell_type": "code",
   "execution_count": null,
   "id": "22af43cb",
   "metadata": {},
   "outputs": [],
   "source": [
    "pie_plots(38, sub=1)"
   ]
  },
  {
   "cell_type": "code",
   "execution_count": null,
   "id": "3878370f",
   "metadata": {},
   "outputs": [],
   "source": [
    "pie_plots(38, sub=2)"
   ]
  },
  {
   "cell_type": "code",
   "execution_count": null,
   "id": "bbd5645b",
   "metadata": {},
   "outputs": [],
   "source": [
    "pie_plots(38, sub=3)"
   ]
  },
  {
   "cell_type": "code",
   "execution_count": null,
   "id": "e8787933",
   "metadata": {},
   "outputs": [],
   "source": [
    "pie_plots(38, sub=4)"
   ]
  },
  {
   "cell_type": "code",
   "execution_count": null,
   "id": "8ecb6f32",
   "metadata": {},
   "outputs": [],
   "source": [
    "pie_plots(38, sub=5)"
   ]
  },
  {
   "cell_type": "code",
   "execution_count": null,
   "id": "1fd50a5a",
   "metadata": {},
   "outputs": [],
   "source": [
    "pie_plots(38, sub=6)"
   ]
  },
  {
   "cell_type": "code",
   "execution_count": null,
   "id": "e433313b",
   "metadata": {},
   "outputs": [],
   "source": [
    "string = print_data('v_273', list, title=codebook[39]['question'], gap=True)"
   ]
  },
  {
   "cell_type": "code",
   "execution_count": null,
   "id": "d3263359",
   "metadata": {},
   "outputs": [],
   "source": [
    "drop = rls_umfrage_auswertung.get_lemma(string, number_of_most_common_words_displayed=20)"
   ]
  },
  {
   "cell_type": "code",
   "execution_count": null,
   "id": "4e26dd96",
   "metadata": {},
   "outputs": [],
   "source": []
  },
  {
   "cell_type": "code",
   "execution_count": null,
   "id": "adcb998c",
   "metadata": {},
   "outputs": [],
   "source": []
  }
 ],
 "metadata": {
  "kernelspec": {
   "display_name": "Python 3 (ipykernel)",
   "language": "python",
   "name": "python3"
  },
  "language_info": {
   "codemirror_mode": {
    "name": "ipython",
    "version": 3
   },
   "file_extension": ".py",
   "mimetype": "text/x-python",
   "name": "python",
   "nbconvert_exporter": "python",
   "pygments_lexer": "ipython3",
   "version": "3.10.4"
  }
 },
 "nbformat": 4,
 "nbformat_minor": 5
}
