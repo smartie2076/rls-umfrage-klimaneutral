{
 "cells": [
  {
   "cell_type": "markdown",
   "id": "1c69c74c",
   "metadata": {},
   "source": [
    "# Grafiken für RLIED am 12.9."
   ]
  },
  {
   "cell_type": "code",
   "execution_count": null,
   "id": "72c798a8",
   "metadata": {},
   "outputs": [],
   "source": [
    "import numpy as np\n",
    "import pandas as pd\n",
    "import matplotlib.pyplot as plt\n",
    "from matplotlib import cm\n",
    "from matplotlib.colors import ListedColormap"
   ]
  },
  {
   "cell_type": "code",
   "execution_count": null,
   "id": "d46fe07e",
   "metadata": {},
   "outputs": [],
   "source": [
    "# Pfad zum Ausgeben der Ergebnisse\n",
    "path = 'output/'"
   ]
  },
  {
   "cell_type": "code",
   "execution_count": null,
   "id": "537f9882",
   "metadata": {},
   "outputs": [],
   "source": [
    "# Qualität der Grafiken\n",
    "dpi = 600"
   ]
  },
  {
   "cell_type": "code",
   "execution_count": null,
   "id": "7e1faaff",
   "metadata": {},
   "outputs": [],
   "source": [
    "# Laden der Umfrageergebnisse\n",
    "links = ['E-Mailverteiler', 'internes-Netzwerk', 'Pressemitteilung']\n",
    "# Funktion zum Bereinigen der Ergebnisse\n",
    "def cleanse(df):\n",
    "    mask = (df['duration']>0) \\\n",
    "        & (df['lastpage']>0) \\\n",
    "        & (df['dispcode'].isin([31,32,33,34,22]))\n",
    "    return df.loc[mask]\n",
    "\n",
    "# Funktion zum Laden, Filtern und Bereinigen der Daten\n",
    "def load_df(link, skipped):\n",
    "    df = pd.read_csv('data/2022_06_RLI_Klimaneutrales Stromsystem_{}_Ergebnisse.csv'.format(link),\n",
    "                     sep=';', header=2, usecols=list(range(3,123)))\n",
    "    df = cleanse(df)\n",
    "    skip_codes = [22] if skipped else [31,32,33,34]\n",
    "    return df.loc[df['dispcode'].isin(skip_codes)]\n",
    "\n",
    "# eine Tabelle mit Daten\n",
    "data = pd.concat([load_df(link, skipped=False) for link in links]).reset_index()\n",
    "len(data)"
   ]
  },
  {
   "cell_type": "code",
   "execution_count": null,
   "id": "e41d76c1",
   "metadata": {},
   "outputs": [],
   "source": [
    "# Importiere Codebook in dict format\n",
    "from src import rls_umfrage_auswertung\n",
    "codebook = rls_umfrage_auswertung.main_preprocessing_codebook()\n",
    "# Corrections\n",
    "codebook[25]['subquestion'].pop(8)"
   ]
  },
  {
   "cell_type": "code",
   "execution_count": null,
   "id": "61759355",
   "metadata": {},
   "outputs": [],
   "source": [
    "# Codes, die Bedeuten, dass keine Angabe gemacht wurde\n",
    "exclude_codes = [-77, -99, -66, 0, '0', '-66', '-99', '-77']"
   ]
  },
  {
   "cell_type": "code",
   "execution_count": null,
   "id": "596b336c",
   "metadata": {},
   "outputs": [],
   "source": [
    "# Einstellungen zur Darstellung\n",
    "# Farbpalette (kann mit eigenen Farben angepasst werden)\n",
    "cmap = cm.get_cmap('coolwarm')\n",
    "grey = np.array([11/16, 11/16, 11/16, 1])\n",
    "light = np.array([.9, .9, .9, 1])\n",
    "colors5 = ListedColormap(np.vstack([cm.get_cmap('coolwarm', 4)(range(4)), grey]))\n",
    "colors6 = ListedColormap(np.vstack([cm.get_cmap('coolwarm', 5)(range(5)), grey]))\n",
    "colors7 = ListedColormap(np.vstack([cm.get_cmap('coolwarm', 6)(range(6)), light, grey]))\n",
    "colors8 = ListedColormap(np.vstack([cm.get_cmap('coolwarm', 7)(range(7)), light, grey]))\n",
    "colors8_pie = ListedColormap(np.vstack([cm.get_cmap('coolwarm', 7)(range(7)), grey]))"
   ]
  },
  {
   "cell_type": "code",
   "execution_count": null,
   "id": "62ea1dc2",
   "metadata": {},
   "outputs": [],
   "source": [
    "# Funktion zum plotten von horizontalen Balken\n",
    "# returns figure\n",
    "def plot_bar(code, # Number of the question in codebook\n",
    "             title=None, # custom title\n",
    "             question=True, # write questions\n",
    "             agg={}, # replacement code for reply labels (str) for aggregation\n",
    "             sort=True, # sort answers by most appreciation\n",
    "             colors=cmap, # custom colormap\n",
    "             legend=True, # whether to add a legend under the plot\n",
    "             legend_cols=4 # number of columns in the legend\n",
    "            ):\n",
    "    # Collect data for bars\n",
    "    bars = {}\n",
    "    for sub in range(1, len(codebook[code]['subquestion'])+1):\n",
    "        key = codebook[code]['subquestion'][sub]['columns']\n",
    "        codes = codebook[code]['subquestion'][sub]['multiple-choice-options']\n",
    "        q = codebook[code]['subquestion'][sub]['question'] if question else sub\n",
    "        values = data[key].astype(str).replace(codes)\n",
    "        values = values.loc[~values.isin(exclude_codes)].replace(agg).value_counts() # aggregate, count\n",
    "        for val in set(codes.values()).difference(values.index): # fill missing values\n",
    "            values.loc[val] = 0\n",
    "        values = values.loc[[label for label in codes.values()]] # sort\n",
    "        values = values / len(data.loc[~data[key].isin(exclude_codes)]) # get %\n",
    "        bars[q] = values\n",
    "    data_to_plot = pd.DataFrame(bars).fillna(0)\n",
    "        \n",
    "    # Construct the plot\n",
    "    # https://stackoverflow.com/questions/41530975/set-size-of-subplot-in-matplotlib\n",
    "    fig, axis = plt.subplots(figsize=(8, len(bars)*0.5))\n",
    "    # Sort the plots\n",
    "    data_to_plot = data_to_plot.sort_values(by=codes[\"1\"], axis=1, ascending=sort)\n",
    "    ax = data_to_plot.T.plot.barh(\n",
    "        stacked=True, title=title, mark_right=True, ax=axis, legend=None, cmap=colors)\n",
    "    #ax.set_aspect(0.05)\n",
    "    \n",
    "    # Add a 50% line\n",
    "    plt.axvline(0.5, color='#555555', ls='--', lw=.5)\n",
    "    \n",
    "    # Remove the frame\n",
    "    for pos in ['right', 'top', 'bottom']:\n",
    "        plt.gca().spines[pos].set_visible(False)\n",
    "        \n",
    "    # Add a legend\n",
    "    if legend:\n",
    "        hight = -1.5\n",
    "        if len(bars) == 3: hight = -0.75\n",
    "        if len(bars) == 4: hight = -0.6\n",
    "        if len(bars) == 5: hight = -0.5\n",
    "        if len(bars) == 6: hight = -0.4\n",
    "        if len(bars) >= 7: hight = -0.3\n",
    "        ax.legend(loc='lower center', bbox_to_anchor=(0.5, hight),\n",
    "                  ncol=legend_cols, fancybox=True, shadow=False)"
   ]
  },
  {
   "cell_type": "code",
   "execution_count": null,
   "id": "fe6ae4f5",
   "metadata": {},
   "outputs": [],
   "source": [
    "# Funktion zum plotten von einem Kuchendiagramm\n",
    "# returns figure\n",
    "def plot_pie(code, # Number of the question in codebook\n",
    "             sub=1, # sub-question\n",
    "             title=None, # custom title\n",
    "             agg={}, # replacement code for reply labels (str) for aggregation\n",
    "             colors=cmap, # custom colormap\n",
    "             legend=True\n",
    "            ):\n",
    "    # Collect data\n",
    "    key = codebook[code]['subquestion'][sub]['columns']\n",
    "    codes = codebook[code]['subquestion'][sub]['multiple-choice-options']\n",
    "    q = codebook[code]['subquestion'][sub]['question']\n",
    "    values = data[key].astype(str).replace(codes) # to strings\n",
    "    values = values.loc[~values.isin(exclude_codes)].replace(agg).value_counts() # aggregate, count\n",
    "    for val in set(codes.values()).difference(values.index): # fill missing values\n",
    "        values.loc[val] = 0.001\n",
    "    values = values.loc[[label for label in codes.values()]] # sort\n",
    "        \n",
    "    # Construct the plot\n",
    "    fig, axis = plt.subplots(figsize=(10,4), constrained_layout=False)\n",
    "    ax = values.plot.pie(ax=axis, cmap=colors, startangle=90, title=title, labeldistance=None)\n",
    "    ax.axis('off')\n",
    "    \n",
    "    # draw a legend\n",
    "    if legend:\n",
    "        dist = 1.8\n",
    "        if len(codes) <= 4: dist = 1.4\n",
    "        if len(codes) == 5: dist = 2\n",
    "        if len(codes) == 6: dist = 1.68\n",
    "        ax.legend(loc='center right', bbox_to_anchor=(dist, 0.5),\n",
    "                  ncol=1, fancybox=False, frameon=False)"
   ]
  },
  {
   "cell_type": "markdown",
   "id": "bd424cf4",
   "metadata": {},
   "source": [
    "# Auswertung allgemein"
   ]
  },
  {
   "cell_type": "code",
   "execution_count": null,
   "id": "17e6a0a9",
   "metadata": {},
   "outputs": [],
   "source": [
    "title = 'Hintergrund der Teilnehmende'\n",
    "plot_pie(40,1,title, colors='Blues')\n",
    "plt.savefig(path+title+'.png', dpi=dpi)"
   ]
  },
  {
   "cell_type": "code",
   "execution_count": null,
   "id": "9050ea11",
   "metadata": {},
   "outputs": [],
   "source": [
    "title = 'Synonyme KS und ES'\n",
    "plot_pie(5,1,title)\n",
    "plt.savefig(path+title+'.png', dpi=dpi)"
   ]
  },
  {
   "cell_type": "code",
   "execution_count": null,
   "id": "6633d07a",
   "metadata": {},
   "outputs": [],
   "source": [
    "title = 'Kompatibilität Klimaziele'\n",
    "plot_pie(7,1,title)\n",
    "plt.savefig(path+title+'.png', dpi=dpi)"
   ]
  },
  {
   "cell_type": "code",
   "execution_count": null,
   "id": "b74464e2",
   "metadata": {},
   "outputs": [],
   "source": [
    "title = 'KS als Zwischenschritt zum KE'\n",
    "plot_pie(9,1,title)\n",
    "plt.savefig(path+title+'.png', dpi=dpi)"
   ]
  },
  {
   "cell_type": "code",
   "execution_count": null,
   "id": "090b96a4",
   "metadata": {},
   "outputs": [],
   "source": [
    "# ToDo: Mittelwert als gestrichelte Linie\n",
    "title = 'Jährlicher Strombedarf Deutschlands'\n",
    "fig, ax = plt.subplots(1,2, figsize=(8,4), sharex='all', sharey='all')\n",
    "data['v_148'].loc[~data['v_148'].isin(exclude_codes)].hist(bins=15, ax=ax[0], color=cmap(0))\n",
    "ax[0].set_title('im KS')\n",
    "ax[0].axvline(data['v_148'].loc[~data['v_148'].isin(exclude_codes)].mean(), color='#555555', ls='--', lw=1.)\n",
    "data['v_149'].loc[~data['v_149'].isin(exclude_codes)].hist(bins=15, ax=ax[1], color=cmap(0))\n",
    "ax[1].axvline(data['v_149'].loc[~data['v_149'].isin(exclude_codes)].mean(), color='#555555', ls='--', lw=1.)\n",
    "ax[1].set_title('im KE')\n",
    "fig.suptitle(title, fontsize=14)\n",
    "plt.savefig(path+title+'.png', dpi=dpi)"
   ]
  },
  {
   "cell_type": "code",
   "execution_count": null,
   "id": "6e2e648a",
   "metadata": {},
   "outputs": [],
   "source": [
    "title = 'Importbilanz Stromsystem'\n",
    "plot_bar(13, colors=colors6, legend_cols=2)\n",
    "plt.savefig(path+title+'.png', dpi=dpi, bbox_inches='tight', pad_inches=1)"
   ]
  },
  {
   "cell_type": "code",
   "execution_count": null,
   "id": "6e539f35",
   "metadata": {},
   "outputs": [],
   "source": [
    "title = 'Grüner Wasserstoff als entscheidender Baustein'\n",
    "plot_bar(14, colors=colors5, legend_cols=3, sort=False)\n",
    "plt.savefig(path+title+'.png', dpi=dpi, bbox_inches='tight', pad_inches=1)"
   ]
  },
  {
   "cell_type": "code",
   "execution_count": null,
   "id": "40617abf",
   "metadata": {},
   "outputs": [],
   "source": [
    "title = 'Herkunft grüner Wasserstoff'\n",
    "plot_pie(15, 1, title, colors=cmap)\n",
    "plt.savefig(path+title+'.png', dpi=dpi)"
   ]
  },
  {
   "cell_type": "markdown",
   "id": "b4659ef6",
   "metadata": {},
   "source": [
    "# Auswertung Gesellschaft"
   ]
  },
  {
   "cell_type": "code",
   "execution_count": null,
   "id": "4b0ccbb8",
   "metadata": {},
   "outputs": [],
   "source": [
    "title = 'Aufholbedarf Prozessuale Teilhabe'\n",
    "plot_bar(17, colors=colors7, legend_cols=4)\n",
    "plt.savefig(path+title+'.png', dpi=dpi, bbox_inches='tight', pad_inches=1)"
   ]
  },
  {
   "cell_type": "code",
   "execution_count": null,
   "id": "5153f595",
   "metadata": {},
   "outputs": [],
   "source": [
    "title = 'Aufholbedarf Finanzielle Teilhabe und Geschäftsmodelle'\n",
    "plot_bar(18, colors=colors7, legend_cols=4)\n",
    "plt.savefig(path+title+'.png', dpi=dpi, bbox_inches='tight', pad_inches=1)"
   ]
  },
  {
   "cell_type": "code",
   "execution_count": null,
   "id": "e767c659",
   "metadata": {},
   "outputs": [],
   "source": [
    "title = 'Suffizienzmaßnahmen zur Nachfragereduktion'\n",
    "plot_bar(19, colors=colors7, legend_cols=4)\n",
    "plt.savefig(path+title+'.png', dpi=dpi, bbox_inches='tight', pad_inches=1)"
   ]
  },
  {
   "cell_type": "code",
   "execution_count": null,
   "id": "976a1014",
   "metadata": {},
   "outputs": [],
   "source": [
    "title = 'Aufholbedarf Energiegerechtigkeit und Just Transition'\n",
    "plot_bar(20, colors=colors7, legend_cols=4)\n",
    "plt.savefig(path+title+'.png', dpi=dpi, bbox_inches='tight', pad_inches=1)"
   ]
  },
  {
   "cell_type": "markdown",
   "id": "4952cf35",
   "metadata": {},
   "source": [
    "# Auswertung Wirtschaft"
   ]
  },
  {
   "cell_type": "code",
   "execution_count": null,
   "id": "43a5eaa9",
   "metadata": {},
   "outputs": [],
   "source": [
    "title = 'Aufholbedarf Bepreisung'\n",
    "plot_bar(23, colors=colors7, legend_cols=4)\n",
    "plt.savefig(path+title+'.png', dpi=dpi, bbox_inches='tight', pad_inches=1)"
   ]
  },
  {
   "cell_type": "code",
   "execution_count": null,
   "id": "cff78c60",
   "metadata": {},
   "outputs": [],
   "source": [
    "title = 'Aufholbedarf Regulatorischer Rahmen und Förderdesign'\n",
    "plot_bar(24, colors=colors7, legend_cols=4)\n",
    "plt.savefig(path+title+'.png', dpi=dpi, bbox_inches='tight', pad_inches=1)"
   ]
  },
  {
   "cell_type": "code",
   "execution_count": null,
   "id": "ab5be69a",
   "metadata": {},
   "outputs": [],
   "source": [
    "title = 'Aufholbedarf Stromhandel'\n",
    "plot_bar(25, colors=colors7, legend_cols=4)\n",
    "plt.savefig(path+title+'.png', dpi=dpi, bbox_inches='tight', pad_inches=1)"
   ]
  },
  {
   "cell_type": "markdown",
   "id": "64303c15",
   "metadata": {},
   "source": [
    "# Auswertung Technik"
   ]
  },
  {
   "cell_type": "code",
   "execution_count": null,
   "id": "8b503e61",
   "metadata": {},
   "outputs": [],
   "source": [
    "title = 'Aufholbedarf Sektorenkopplung'\n",
    "plot_bar(28, colors=colors7, legend_cols=4)\n",
    "plt.savefig(path+title+'.png', dpi=dpi, bbox_inches='tight', pad_inches=1)"
   ]
  },
  {
   "cell_type": "code",
   "execution_count": null,
   "id": "d0b33ee3",
   "metadata": {},
   "outputs": [],
   "source": [
    "title = 'Aufholbedarf Digitalisierung'\n",
    "plot_bar(29, colors=colors7, legend_cols=4)\n",
    "plt.savefig(path+title+'.png', dpi=dpi, bbox_inches='tight', pad_inches=1)"
   ]
  },
  {
   "cell_type": "code",
   "execution_count": null,
   "id": "e2675a74",
   "metadata": {},
   "outputs": [],
   "source": [
    "title = 'Aufholbedarf Flexibilitäten'\n",
    "plot_bar(30, colors=colors7, legend_cols=4)\n",
    "plt.savefig(path+title+'.png', dpi=dpi, bbox_inches='tight', pad_inches=1)"
   ]
  },
  {
   "cell_type": "code",
   "execution_count": null,
   "id": "89f9269d",
   "metadata": {},
   "outputs": [],
   "source": [
    "title = 'Aufholbedarf Konventionelle Kraftwerke'\n",
    "plot_bar(31, colors=colors7, legend_cols=4)\n",
    "plt.savefig(path+title+'.png', dpi=dpi, bbox_inches='tight', pad_inches=1)"
   ]
  },
  {
   "cell_type": "code",
   "execution_count": null,
   "id": "29df49bc",
   "metadata": {},
   "outputs": [],
   "source": [
    "title = 'Aufholbedarf Stromnetze'\n",
    "plot_bar(32, colors=colors7, legend_cols=4)\n",
    "plt.savefig(path+title+'.png', dpi=dpi, bbox_inches='tight', pad_inches=1)"
   ]
  },
  {
   "cell_type": "code",
   "execution_count": null,
   "id": "476f1577",
   "metadata": {},
   "outputs": [],
   "source": [
    "title = 'Aufholbedarf Ausbau Erneuerbare'\n",
    "plot_bar(33, colors=colors7, legend_cols=4)\n",
    "plt.savefig(path+title+'.png', dpi=dpi, bbox_inches='tight', pad_inches=1)"
   ]
  },
  {
   "cell_type": "markdown",
   "id": "d0a3733a",
   "metadata": {},
   "source": [
    "# Auswertung Strommarktdesign"
   ]
  },
  {
   "cell_type": "code",
   "execution_count": null,
   "id": "8869491e",
   "metadata": {},
   "outputs": [],
   "source": [
    "title = 'Heutiges Strommarktdesign unpassend für Erneuerbare'\n",
    "plot_pie(38, 2, title, colors=colors8_pie)\n",
    "plt.savefig(path+title+'.png', dpi=dpi)"
   ]
  },
  {
   "cell_type": "code",
   "execution_count": null,
   "id": "ea5f7fc9",
   "metadata": {},
   "outputs": [],
   "source": [
    "title = 'Reform Strommarktdesign notwendig'\n",
    "plot_pie(36, 1, title, colors=cmap)\n",
    "plt.savefig(path+title+'.png', dpi=dpi)"
   ]
  },
  {
   "cell_type": "code",
   "execution_count": null,
   "id": "66d325e2",
   "metadata": {},
   "outputs": [],
   "source": [
    "codebook[38]['subquestion'][1]['question'] = 'Stringentes Marktdesign nötig'\n",
    "codebook[38]['subquestion'][2]['question'] = 'Heutiges Strommarktdesign unpassend für Erneuerbare'\n",
    "codebook[38]['subquestion'][3]['question'] = 'Ziel der Strommarktreform ist die koordinierende Funktion'\n",
    "codebook[38]['subquestion'][4]['question'] = 'Dezentralität wird Strukturmerkmal'\n",
    "codebook[38]['subquestion'][5]['question'] = 'Vor-Ort-Ebene wird wichtiger Bestandteil'\n",
    "codebook[38]['subquestion'][6]['question'] = 'Abkehr vom Kupferplatten-Ideal und Anerkennung Engpässe'"
   ]
  },
  {
   "cell_type": "code",
   "execution_count": null,
   "id": "9430262e",
   "metadata": {},
   "outputs": [],
   "source": [
    "title = 'Strommarktdesign Thesen'\n",
    "plot_bar(38, question=True, colors=colors8_pie, legend_cols=4)\n",
    "plt.savefig(path+title+'.png', dpi=dpi, bbox_inches='tight', pad_inches=1)"
   ]
  },
  {
   "cell_type": "code",
   "execution_count": null,
   "id": "c5d4e4b0",
   "metadata": {},
   "outputs": [],
   "source": [
    "rls_umfrage_auswertung.create_wordcloud(codebook, survey_data=data,\n",
    "                                        question_number_list=[37],\n",
    "                                        number_of_most_common_words_displayed=20)"
   ]
  },
  {
   "cell_type": "code",
   "execution_count": null,
   "id": "8af14626",
   "metadata": {},
   "outputs": [],
   "source": [
    "rls_umfrage_auswertung.create_wordcloud(codebook, survey_data=data,\n",
    "                                        question_number_list=[39],\n",
    "                                        number_of_most_common_words_displayed=20)"
   ]
  },
  {
   "cell_type": "code",
   "execution_count": null,
   "id": "cc5957cc",
   "metadata": {},
   "outputs": [],
   "source": [
    "for subquestion in range(1,7):\n",
    "    title = 'These '+str(subquestion)\n",
    "    plot_pie(38,subquestion)\n",
    "    plt.savefig(path+title+'.png', dpi=dpi)"
   ]
  }
 ],
 "metadata": {
  "kernelspec": {
   "display_name": "Python 3 (ipykernel)",
   "language": "python",
   "name": "python3"
  },
  "language_info": {
   "codemirror_mode": {
    "name": "ipython",
    "version": 3
   },
   "file_extension": ".py",
   "mimetype": "text/x-python",
   "name": "python",
   "nbconvert_exporter": "python",
   "pygments_lexer": "ipython3",
   "version": "3.10.4"
  }
 },
 "nbformat": 4,
 "nbformat_minor": 5
}
